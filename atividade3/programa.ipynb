version https://git-lfs.github.com/spec/v1
oid sha256:83080f5ab5ee59861fbefa56e03eb57aee7bf6b46434f1d08d1c809596a6659a
size 1002
