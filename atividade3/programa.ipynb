version https://git-lfs.github.com/spec/v1
oid sha256:e519bf72863f7a084938828a2774f86e8fef627632209106c4cee2e5b1411b0a
size 390052
